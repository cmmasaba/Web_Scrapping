{
 "cells": [
  {
   "cell_type": "markdown",
   "id": "f592dfb6-b3c9-4f11-bd9f-73476664b606",
   "metadata": {},
   "source": [
    "# IMAGE WEB SCRAPPING USING PYTHON AND BEAUTIFULSOUP\n",
    "A webscrapping script that visits a site and downloads all images from the site.<br>\n",
    "The images site is [pngmart](https://www.pngmart.com/)"
   ]
  },
  {
   "cell_type": "code",
   "execution_count": 1,
   "id": "26de1864-8d6b-4f9f-9310-53e0670ddd02",
   "metadata": {},
   "outputs": [],
   "source": [
    "import requests # for http requests\n",
    "from bs4 import BeautifulSoup # for webscrapping"
   ]
  },
  {
   "cell_type": "markdown",
   "id": "1b9f92f0-37f4-4f9f-acfd-395360914c8d",
   "metadata": {},
   "source": [
    "From the site I got the sitemap url.<br>\n",
    "Then did a http request on the url.<br>\n",
    "The sitemap is in XML format so the bs4 parses it in that format."
   ]
  },
  {
   "cell_type": "code",
   "execution_count": 115,
   "id": "e6da1880-a9bf-468a-9a2f-168f1af87418",
   "metadata": {},
   "outputs": [],
   "source": [
    "site_map = 'https://www.pngmart.com/sitemap.xml'\n",
    "response = requests.get(site_map)\n",
    "site_xml = response.text\n",
    "site_xml_soup = BeautifulSoup(site_xml, 'xml')"
   ]
  },
  {
   "cell_type": "markdown",
   "id": "9e90c482-1f87-46f7-ad47-ffa77b891669",
   "metadata": {},
   "source": [
    "I did some processing on the soup object above to extract only sitemap<br>\n",
    "links pointing to image posts."
   ]
  },
  {
   "cell_type": "code",
   "execution_count": 116,
   "id": "a32c6c6d-17f1-4779-bf70-b98245781ead",
   "metadata": {},
   "outputs": [],
   "source": [
    "sitemap_posts = []\n",
    "for loc in site_xml_soup.find_all('loc'):\n",
    "    uri = loc.text\n",
    "    if 'posts' in uri:\n",
    "        sitemap_posts.append(uri)"
   ]
  },
  {
   "cell_type": "markdown",
   "id": "1b04b2b6-18cb-4553-88b6-57eaf477238b",
   "metadata": {},
   "source": [
    "For testing purposes i only took sitemap post 1, did a http request on the link to get<br>\n",
    "all images under that url. I parsed the response object using XML format and appended<br>\n",
    "image urls into the list."
   ]
  },
  {
   "cell_type": "code",
   "execution_count": 117,
   "id": "2b7bcc36-8701-4fe4-8de8-021da4312824",
   "metadata": {},
   "outputs": [],
   "source": [
    "posts_part_1 = sitemap_posts[0]\n",
    "response = requests.get(posts_part_1)\n",
    "posts_soup = BeautifulSoup(response.text, 'xml')\n",
    "images_list = []\n",
    "for loc in posts_soup.find_all('loc'):\n",
    "    uri = loc.text\n",
    "    images_list.append(uri)"
   ]
  },
  {
   "cell_type": "markdown",
   "id": "b08761f7-db9b-4434-9843-e9b3f9570cf0",
   "metadata": {},
   "source": [
    "The last step is iterating over the images list and downloading each image.<br>\n",
    "The images are saved in the local disk."
   ]
  },
  {
   "cell_type": "code",
   "execution_count": 118,
   "id": "1ee1e764-3402-43fe-a204-15c64714e135",
   "metadata": {},
   "outputs": [],
   "source": [
    "for image_url in images_list[1995:]:\n",
    "    png   = requests.get(image_url)\n",
    "    soup    = BeautifulSoup(png.text, 'html.parser')\n",
    "    try:\n",
    "        png_url = soup.find('a', {'class':'download'})['href']\n",
    "    except TypeError:\n",
    "        pass\n",
    "    image = requests.get(png_url)\n",
    "    image_title = f\"{image_url.split('/')[-1]}-{png_url.split('/')[-1]}\"\n",
    "    with open(image_title, 'wb') as f:\n",
    "        f.write(image.content)"
   ]
  },
  {
   "cell_type": "code",
   "execution_count": null,
   "id": "bfa1246b-0966-4553-8a06-104c4bd2cbf9",
   "metadata": {},
   "outputs": [],
   "source": []
  }
 ],
 "metadata": {
  "kernelspec": {
   "display_name": "Python 3 (ipykernel)",
   "language": "python",
   "name": "python3"
  },
  "language_info": {
   "codemirror_mode": {
    "name": "ipython",
    "version": 3
   },
   "file_extension": ".py",
   "mimetype": "text/x-python",
   "name": "python",
   "nbconvert_exporter": "python",
   "pygments_lexer": "ipython3",
   "version": "3.10.12"
  }
 },
 "nbformat": 4,
 "nbformat_minor": 5
}
